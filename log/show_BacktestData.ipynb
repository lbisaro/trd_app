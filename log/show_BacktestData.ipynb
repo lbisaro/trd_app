{
 "cells": [
  {
   "cell_type": "code",
   "execution_count": 27,
   "metadata": {},
   "outputs": [],
   "source": [
    "import pandas as pd\n",
    "import numpy as np\n",
    "from datetime import timedelta\n",
    "\n",
    "import os\n",
    "import pickle\n",
    "\n",
    "\n",
    "\n",
    "\n"
   ]
  },
  {
   "cell_type": "code",
   "execution_count": 28,
   "metadata": {},
   "outputs": [
    {
     "data": {
      "text/plain": [
       "(             datetime     close\n",
       " 0 2024-12-04 21:06:00  0.000163\n",
       " 1 2024-12-04 21:07:00  0.000163,\n",
       "                datetime     close\n",
       " 988 2024-12-05 13:34:00  0.000168\n",
       " 989 2024-12-05 13:35:00  0.000167)"
      ]
     },
     "execution_count": 28,
     "metadata": {},
     "output_type": "execute_result"
    }
   ],
   "source": [
    "df_file  = 'bot_klines_9.DataFrame'\n",
    "\n",
    "with open(df_file, 'rb') as file:\n",
    "    df = pickle.load(file)\n",
    "    #data.set_index('datetime',inplace=True)\n",
    "\n",
    "df[['datetime','close']].head(2),df[['datetime','close']].tail(2)\n"
   ]
  },
  {
   "cell_type": "code",
   "execution_count": 30,
   "metadata": {},
   "outputs": [
    {
     "name": "stdout",
     "output_type": "stream",
     "text": [
      "Timeframe:  0 days 00:01:00 Periods:  4 Resample:  0 days 00:04:00\n"
     ]
    },
    {
     "data": {
      "text/plain": [
       "(                               datetime     close\n",
       " datetime                                         \n",
       " 2024-12-04 21:04:00 2024-12-04 21:06:00  0.000163\n",
       " 2024-12-04 21:08:00 2024-12-04 21:08:00  0.000162,\n",
       "                                datetime     close\n",
       " datetime                                         \n",
       " 2024-12-05 13:28:00 2024-12-05 13:28:00  0.000168\n",
       " 2024-12-05 13:32:00 2024-12-05 13:32:00  0.000167)"
      ]
     },
     "execution_count": 30,
     "metadata": {},
     "output_type": "execute_result"
    }
   ],
   "source": [
    "periods = 4\n",
    "timeframe = df['datetime'].iloc[1]-df['datetime'].iloc[0]\n",
    "resample = timeframe * periods\n",
    "print('Timeframe: ',timeframe,'Periods: ',periods,'Resample: ',resample)\n",
    "agg_func = {'datetime': 'first','open': 'first','high': 'max','low': 'min','close': 'last','volume': 'sum',}\n",
    "#resample='15min'\n",
    "dfx = df.resample(resample, on=\"datetime\").agg(agg_func)\n",
    "dfx[['datetime','close']].head(2),dfx[['datetime','close']].tail(2)"
   ]
  }
 ],
 "metadata": {
  "kernelspec": {
   "display_name": ".venv",
   "language": "python",
   "name": "python3"
  },
  "language_info": {
   "codemirror_mode": {
    "name": "ipython",
    "version": 3
   },
   "file_extension": ".py",
   "mimetype": "text/x-python",
   "name": "python",
   "nbconvert_exporter": "python",
   "pygments_lexer": "ipython3",
   "version": "3.8.0"
  }
 },
 "nbformat": 4,
 "nbformat_minor": 2
}
