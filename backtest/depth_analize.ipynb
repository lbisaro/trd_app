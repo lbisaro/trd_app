{
 "cells": [
  {
   "cell_type": "code",
   "execution_count": 4,
   "metadata": {},
   "outputs": [],
   "source": [
    "import pickle\n",
    "import os"
   ]
  },
  {
   "cell_type": "code",
   "execution_count": 5,
   "metadata": {},
   "outputs": [],
   "source": [
    "symbol='BTCUSDT'\n",
    "\n",
    "\n",
    "\"\"\"\n",
    "Los datos se obtienen con el script depth_get.py\n",
    "\"\"\"\n",
    "LOG_DIR = os.path.join('..','log')\n",
    "DATA_FILE = os.path.join(LOG_DIR, f\"order_book_{symbol}.pkl\")\n",
    "if os.path.exists(DATA_FILE):\n",
    "    with open(DATA_FILE, \"rb\") as archivo:\n",
    "        depth = pickle.load(archivo)\n",
    "\n",
    "bids = depth['bids']\n",
    "asks = depth['asks']"
   ]
  },
  {
   "cell_type": "markdown",
   "metadata": {},
   "source": [
    "## Analizando Depth por espacios de porcentaje"
   ]
  },
  {
   "cell_type": "code",
   "execution_count": 6,
   "metadata": {},
   "outputs": [
    {
     "name": "stdout",
     "output_type": "stream",
     "text": [
      "Base price: 85529.57\n"
     ]
    },
    {
     "data": {
      "image/png": "[encoded data removed]",
      "text/plain": [
       "<Figure size 1000x500 with 1 Axes>"
      ]
     },
     "metadata": {},
     "output_type": "display_data"
    }
   ],
   "source": [
    "import numpy as np\n",
    "import matplotlib.pyplot as plt\n",
    "\n",
    "qd_price = 2\n",
    "qd_quote = 2\n",
    "\n",
    "# 1️⃣ Calcular el precio base\n",
    "base_price = round((asks[0][0] + bids[0][0]) / 2 , qd_price)\n",
    "print(f'Base price: {base_price:.2f}')\n",
    "\n",
    "# 2️⃣ Definir los rangos del histograma\n",
    "bin_size_pct = 0.5 / 100  # 0.5% del precio base\n",
    "num_bins = 30  # Puedes ajustar la cantidad de bins\n",
    "price_bins = [round(base_price * (1 + bin_size_pct * i) , qd_price) for i in range(-num_bins, num_bins + 1)]\n",
    "\n",
    "# 3️⃣ Agrupar los datos en los bins\n",
    "def calculate_volume_by_bin(order_book, bins):\n",
    "    volume_per_bin = np.zeros(len(bins) - 1)\n",
    "    \n",
    "    for price, quantity in order_book:\n",
    "        usd_volume = price * quantity\n",
    "        bin_index = np.digitize(price, bins) - 1  # Encuentra el índice del bin\n",
    "        \n",
    "        if 0 <= bin_index < len(volume_per_bin):  # Evitar errores de índice\n",
    "            volume_per_bin[bin_index] += usd_volume\n",
    "\n",
    "    return volume_per_bin\n",
    "\n",
    "bids_volume = calculate_volume_by_bin(bids, price_bins)\n",
    "bids_volume = [round(v, qd_quote) for v in bids_volume]\n",
    "asks_volume = calculate_volume_by_bin(asks, price_bins)\n",
    "\n",
    "# 4️⃣ Graficar el histograma de liquidez\n",
    "plt.figure(figsize=(10, 5))\n",
    "plt.bar(price_bins[:-1], bids_volume, width=(bin_size_pct * base_price), color='green', alpha=0.6, label='Bids Volume')\n",
    "plt.bar(price_bins[:-1], asks_volume, width=(bin_size_pct * base_price), color='red', alpha=0.6, label='Asks Volume')\n",
    "\n",
    "plt.axvline(base_price, color='blue', linestyle='dashed', label='Base Price')\n",
    "plt.xlabel('Precio (USDT)')\n",
    "plt.ylabel('Volumen en USD')\n",
    "plt.title('Histograma de Liquidez')\n",
    "plt.legend()\n",
    "plt.show()\n"
   ]
  },
  {
   "cell_type": "markdown",
   "metadata": {},
   "source": [
    "## Desarrollo para almacenar los datos en un historico"
   ]
  },
  {
   "cell_type": "code",
   "execution_count": 8,
   "metadata": {},
   "outputs": [
    {
     "data": {
      "text/plain": [
       "'   \\nDATA_FILE = os.path.join(LOG_DIR, f\"depth_{symbol}_historic.pkl\")\\nanalyzer = OrderBookAnalyzer(DATA_FILE)\\nanalysis_result = analyzer.analyze_order_book(bids, asks)\\n\\nprint(\"Análisis completado. Resumen:\")\\nprint(f\"Precio base: {analysis_result[\\'base_price\\']}\")\\nprint(f\"Desbalance del mercado: {analysis_result[\\'market_imbalance\\'][\\'imbalance_pct\\']:.2f}%\")\\nprint(f\"Soportes significativos encontrados: {len(analysis_result[\\'bid_supports\\'][\\'levels\\'])}\")\\nfor s in analysis_result[\\'bid_supports\\'][\\'levels\\']:\\n    print(f\"{s[\\'price\\']}\", f\"{s[\\'volume_pct\\']:.2f} %\")\\nprint(f\"Resistencias significativas encontradas: {len(analysis_result[\\'ask_resistances\\'][\\'levels\\'])}\")\\nfor s in analysis_result[\\'ask_resistances\\'][\\'levels\\']:\\n    print(f\"{s[\\'price\\']}\", f\"{s[\\'volume_pct\\']:.2f} %\")\\n'"
      ]
     },
     "execution_count": 8,
     "metadata": {},
     "output_type": "execute_result"
    }
   ],
   "source": [
    "import pickle\n",
    "import pandas as pd\n",
    "from datetime import datetime\n",
    "import os\n",
    "import numpy as np\n",
    "\n",
    "class OrderBookAnalyzer:\n",
    "    def __init__(self, data_file=''):\n",
    "        self.data_file = data_file\n",
    "        if len(self.data_file)>0:\n",
    "            self.df = self.load_or_create_dataframe()\n",
    "\n",
    "    def load_or_create_dataframe(self):\n",
    "        \"\"\"Carga el DataFrame existente o crea uno nuevo\"\"\"\n",
    "        if os.path.exists(self.data_file):\n",
    "            with open(self.data_file, 'rb') as f:\n",
    "                return pickle.load(f)\n",
    "        return pd.DataFrame(columns=[\n",
    "            'timestamp',\n",
    "            'high',\n",
    "            'low',\n",
    "            'close',\n",
    "            'volume',\n",
    "            'base_price',\n",
    "            'bid_supports',\n",
    "            'ask_resistances',\n",
    "            'total_bid_volume',\n",
    "            'total_ask_volume',\n",
    "            'bid_volume_distribution',\n",
    "            'ask_volume_distribution',\n",
    "            'market_imbalance'\n",
    "        ])\n",
    "\n",
    "    def find_significant_levels(self, levels, is_bid=True, volume_threshold_pct=7.0, price_range_pct=1.0):\n",
    "        \"\"\"\n",
    "        Identifica niveles significativos con métricas relativas\n",
    "        \n",
    "        Args:\n",
    "            levels: Lista de [precio, cantidad]\n",
    "            is_bid: True para bids, False para asks\n",
    "            volume_threshold_pct: Umbral porcentual mínimo para considerar nivel\n",
    "            price_range_pct: Rango alrededor del precio para calcular media\n",
    "            \n",
    "        Returns:\n",
    "            Dict con niveles significativos y métricas\n",
    "        \"\"\"\n",
    "        df = pd.DataFrame(levels, columns=['price', 'amount'])\n",
    "        df['volume'] = df['price'] * df['amount']\n",
    "        total_volume = df['volume'].sum()\n",
    "        \n",
    "        # Convertir a porcentaje del volumen total\n",
    "        df['volume_pct'] = (df['volume'] / total_volume) * 100\n",
    "        \n",
    "        # Calcular media del volumen en el rango de precios\n",
    "        price_reference = df['price'].iloc[0]\n",
    "        price_range = price_reference * (price_range_pct / 100)\n",
    "        range_mask = (df['price'] >= price_reference - price_range) & \\\n",
    "                     (df['price'] <= price_reference + price_range)\n",
    "        mean_volume_in_range = df[range_mask]['volume_pct'].mean()\n",
    "        \n",
    "        # Umbral dinámico (máximo entre 1.5x la media o 1%)\n",
    "        dynamic_threshold = max(1.5 * mean_volume_in_range, volume_threshold_pct)\n",
    "        \n",
    "        # Filtrar niveles significativos\n",
    "        significant_levels = df[df['volume_pct'] > dynamic_threshold].copy()\n",
    "        significant_levels.sort_values('price', ascending=not is_bid, inplace=True)\n",
    "        \n",
    "        # Calcular score de fortaleza relativa\n",
    "        significant_levels['strength_score'] = significant_levels['volume_pct'] / mean_volume_in_range\n",
    "        \n",
    "        # Agrupar niveles cercanos (clusters)\n",
    "        price_group_size = price_reference * 0.005  # Agrupa en bins de 0.5%\n",
    "        significant_levels['price_group'] = (significant_levels['price'] / price_group_size).round()\n",
    "        \n",
    "        clusters = significant_levels.groupby('price_group').agg({\n",
    "            'price': 'first',\n",
    "            'volume': 'sum',\n",
    "            'volume_pct': 'sum',\n",
    "            'strength_score': 'mean'\n",
    "        }).reset_index(drop=True)\n",
    "        \n",
    "        return {\n",
    "            'levels': clusters.to_dict('records'),\n",
    "            'total_volume': total_volume,\n",
    "            'mean_volume_pct_in_range': mean_volume_in_range,\n",
    "            'price_reference': price_reference,\n",
    "            'dynamic_threshold': dynamic_threshold\n",
    "        }\n",
    "\n",
    "    def calculate_volume_distribution(self, levels, base_price):\n",
    "        \"\"\"Calcula distribución del volumen por rangos porcentuales (versión corregida)\"\"\"\n",
    "        df = pd.DataFrame(levels, columns=['price', 'amount'])\n",
    "        df['volume'] = df['price'] * df['amount']\n",
    "        \n",
    "        # Definir los bins correctamente\n",
    "        bins_pct = [-5, -2, -1, -0.5, 0, 0.5, 1, 2, 5]\n",
    "        bins = [base_price * (1 + p/100) for p in bins_pct]\n",
    "        \n",
    "        # Añadir -infinito e infinito para capturar valores fuera del rango\n",
    "        bins = [-np.inf] + bins + [np.inf]\n",
    "        \n",
    "        # Definir etiquetas que correspondan a los bins\n",
    "        labels = [\n",
    "            '<-5%', \n",
    "            '-5% to -2%', \n",
    "            '-2% to -1%', \n",
    "            '-1% to -0.5%', \n",
    "            '-0.5% to 0%',\n",
    "            '0% to 0.5%', \n",
    "            '0.5% to 1%', \n",
    "            '1% to 2%', \n",
    "            '2% to 5%', \n",
    "            '>5%'\n",
    "        ]\n",
    "        \n",
    "        # Verificar que tenemos una etiqueta menos que los bins\n",
    "        assert len(bins) == len(labels) + 1, \"Número de bins y etiquetas no coincide\"\n",
    "        \n",
    "        df['price_pct_from_base'] = (df['price'] - base_price) / base_price * 100\n",
    "        df['price_bin'] = pd.cut(\n",
    "            df['price'], \n",
    "            bins=bins, \n",
    "            labels=labels,\n",
    "            include_lowest=True\n",
    "        )\n",
    "        \n",
    "        distribution = df.groupby('price_bin')['volume'].sum().to_dict()\n",
    "        total = sum(distribution.values())\n",
    "        distribution_pct = {k: (v/total*100 if total > 0 else 0) for k, v in distribution.items()}\n",
    "        \n",
    "        return {\n",
    "            'absolute': distribution,\n",
    "            'percentage': distribution_pct,\n",
    "            'total_volume': total,\n",
    "            'bins_used': bins,\n",
    "            'labels_used': labels\n",
    "        }\n",
    "\n",
    "    def calculate_market_imbalance(self, bid_data, ask_data):\n",
    "        \"\"\"Calcula el desequilibrio entre compra y venta\"\"\"\n",
    "        total_bid = bid_data['total_volume']\n",
    "        total_ask = ask_data['total_volume']\n",
    "        total = total_bid + total_ask\n",
    "        \n",
    "        if total > 0:\n",
    "            imbalance = (total_bid - total_ask) / total * 100  # -100 a +100\n",
    "            bid_dominance = total_bid / total * 100\n",
    "        else:\n",
    "            imbalance = 0\n",
    "            bid_dominance = 50\n",
    "            \n",
    "        return {\n",
    "            'imbalance_pct': imbalance,\n",
    "            'bid_dominance_pct': bid_dominance,\n",
    "            'ratio': total_bid / total_ask if total_ask > 0 else np.inf\n",
    "        }\n",
    "\n",
    "    def analyze_order_book(self, high, low, close, volume, bids, asks):\n",
    "        \n",
    "        print(bids[0])\n",
    "        print(asks[0])\n",
    "        \"\"\"Analiza el libro de órdenes completo\"\"\"\n",
    "        # 1. Precio base y referencia\n",
    "        base_price = (asks[0][0] + bids[0][0]) / 2\n",
    "        \n",
    "        # 2. Niveles significativos\n",
    "        bid_supports = self.find_significant_levels(bids, is_bid=True)\n",
    "        ask_resistances = self.find_significant_levels(asks, is_bid=False)\n",
    "        \n",
    "        # 3. Distribución del volumen\n",
    "        bid_distribution = self.calculate_volume_distribution(bids, base_price)\n",
    "        ask_distribution = self.calculate_volume_distribution(asks, base_price)\n",
    "        \n",
    "        # 4. Desequilibrio del mercado\n",
    "        market_imbalance = self.calculate_market_imbalance(bid_supports, ask_resistances)\n",
    "        \n",
    "        # 5. Crear nuevo registro\n",
    "        new_record = {\n",
    "            'timestamp': datetime.now(),\n",
    "            'high': high,\n",
    "            'low': low,\n",
    "            'close': close,\n",
    "            'volume': volume,\n",
    "            'base_price': base_price,\n",
    "            'bid_supports': bid_supports,\n",
    "            'ask_resistances': ask_resistances,\n",
    "            'total_bid_volume': bid_supports['total_volume'],\n",
    "            'total_ask_volume': ask_resistances['total_volume'],\n",
    "            'bid_volume_distribution': bid_distribution,\n",
    "            'ask_volume_distribution': ask_distribution,\n",
    "            'market_imbalance': market_imbalance\n",
    "        }\n",
    "        \n",
    "        # 6. Actualizar DataFrame\n",
    "        self.df = pd.concat([self.df, pd.DataFrame([new_record])], ignore_index=True)\n",
    "        \n",
    "        ## 7. Guardar datos\n",
    "        if len(self.data_file)>0:\n",
    "            with open(self.data_file, 'wb') as f:\n",
    "                pickle.dump(self.df, f)\n",
    "            \n",
    "        return new_record\n",
    "\n",
    "    def get_summary_stats(self, last_n=24):\n",
    "        \"\"\"Devuelve estadísticas resumidas de los últimos N registros\"\"\"\n",
    "        if len(self.df) < 1:\n",
    "            return None\n",
    "            \n",
    "        last_records = self.df.tail(last_n)\n",
    "        \n",
    "        return {\n",
    "            'mean_imbalance': last_records['market_imbalance'].apply(lambda x: x['imbalance_pct']).mean(),\n",
    "            'mean_bid_dominance': last_records['market_imbalance'].apply(lambda x: x['bid_dominance_pct']).mean(),\n",
    "            'support_levels': self.aggregate_levels(last_records, 'bid_supports'),\n",
    "            'resistance_levels': self.aggregate_levels(last_records, 'ask_resistances'),\n",
    "            'price_change_pct': (last_records['base_price'].iloc[-1] / last_records['base_price'].iloc[0] - 1) * 100\n",
    "        }\n",
    "    \n",
    "    def aggregate_levels(self, df, level_type):\n",
    "        \"\"\"Agrega niveles a lo largo del tiempo\"\"\"\n",
    "        all_levels = []\n",
    "        for _, row in df.iterrows():\n",
    "            for level in row[level_type]['levels']:\n",
    "                all_levels.append({\n",
    "                    'price': level['price'],\n",
    "                    'volume_pct': level['volume_pct'],\n",
    "                    'strength_score': level['strength_score']\n",
    "                })\n",
    "        \n",
    "        if not all_levels:\n",
    "            return []\n",
    "            \n",
    "        levels_df = pd.DataFrame(all_levels)\n",
    "        levels_df['price_bin'] = pd.cut(levels_df['price'], bins=20)\n",
    "        \n",
    "        aggregated = levels_df.groupby('price_bin').agg({\n",
    "            'price': 'mean',\n",
    "            'volume_pct': ['mean', 'count'],\n",
    "            'strength_score': 'mean'\n",
    "        }).reset_index()\n",
    "        \n",
    "        aggregated.columns = ['price_bin', 'mean_price', 'mean_volume_pct', 'frequency', 'mean_strength']\n",
    "        aggregated = aggregated[aggregated['frequency'] > 1]  # Filtra niveles poco frecuentes\n",
    "        \n",
    "        return aggregated.sort_values('mean_volume_pct', ascending=False).to_dict('records')\n",
    "\n",
    "\n",
    "\"\"\"   \n",
    "DATA_FILE = os.path.join(LOG_DIR, f\"depth_{symbol}_historic.pkl\")\n",
    "analyzer = OrderBookAnalyzer(DATA_FILE)\n",
    "analysis_result = analyzer.analyze_order_book(bids, asks)\n",
    "\n",
    "print(\"Análisis completado. Resumen:\")\n",
    "print(f\"Precio base: {analysis_result['base_price']}\")\n",
    "print(f\"Desbalance del mercado: {analysis_result['market_imbalance']['imbalance_pct']:.2f}%\")\n",
    "print(f\"Soportes significativos encontrados: {len(analysis_result['bid_supports']['levels'])}\")\n",
    "for s in analysis_result['bid_supports']['levels']:\n",
    "    print(f\"{s['price']}\", f\"{s['volume_pct']:.2f} %\")\n",
    "print(f\"Resistencias significativas encontradas: {len(analysis_result['ask_resistances']['levels'])}\")\n",
    "for s in analysis_result['ask_resistances']['levels']:\n",
    "    print(f\"{s['price']}\", f\"{s['volume_pct']:.2f} %\")\n",
    "\"\"\"\n",
    "#daily_summary = analyzer.get_summary_stats(24)\n",
    "#weekly_summary = analyzer.get_summary_stats(168)\n",
    "# Obtener resumen de las últimas 24 horas\n",
    "#summary = analyzer.get_summary_stats(24)\n",
    "#if summary:\n",
    "#    print(\"\\nResumen últimas 24 horas:\")\n",
    "#    print(f\"Desbalance promedio: {summary['mean_imbalance']:.2f}%\")\n",
    "#    print(f\"Dominancia de compra promedio: {summary['mean_bid_dominance']:.2f}%\")\n"
   ]
  },
  {
   "cell_type": "markdown",
   "metadata": {},
   "source": [
    "## Revision del historico"
   ]
  },
  {
   "cell_type": "code",
   "execution_count": 19,
   "metadata": {},
   "outputs": [],
   "source": [
    "DATA_FILE = os.path.join(LOG_DIR, f\"order_book_{symbol}_historic.pkl\")\n",
    "if os.path.exists(DATA_FILE):\n",
    "    with open(DATA_FILE, \"rb\") as archivo:\n",
    "        df = pickle.load(archivo)\n",
    "#df.loc[0],'------------', df.loc[0]['bid_supports']['levels'][0]"
   ]
  },
  {
   "cell_type": "markdown",
   "metadata": {},
   "source": [
    "# Generando series de S&R y Market Imbalance"
   ]
  },
  {
   "cell_type": "code",
   "execution_count": 24,
   "metadata": {},
   "outputs": [
    {
     "data": {
      "application/vnd.microsoft.datawrangler.viewer.v0+json": {
       "columns": [
        {
         "name": "index",
         "rawType": "int64",
         "type": "integer"
        },
        {
         "name": "timestamp",
         "rawType": "object",
         "type": "unknown"
        },
        {
         "name": "mi",
         "rawType": "object",
         "type": "unknown"
        }
       ],
       "conversionMethod": "pd.DataFrame",
       "ref": "89cda5e9-1d44-4b3c-b4c0-7e4c2fb516f6",
       "rows": [],
       "shape": {
        "columns": 2,
        "rows": 0
       }
      },
      "text/html": [
       "<div>\n",
       "<style scoped>\n",
       "    .dataframe tbody tr th:only-of-type {\n",
       "        vertical-align: middle;\n",
       "    }\n",
       "\n",
       "    .dataframe tbody tr th {\n",
       "        vertical-align: top;\n",
       "    }\n",
       "\n",
       "    .dataframe thead th {\n",
       "        text-align: right;\n",
       "    }\n",
       "</style>\n",
       "<table border=\"1\" class=\"dataframe\">\n",
       "  <thead>\n",
       "    <tr style=\"text-align: right;\">\n",
       "      <th></th>\n",
       "      <th>timestamp</th>\n",
       "      <th>mi</th>\n",
       "    </tr>\n",
       "  </thead>\n",
       "  <tbody>\n",
       "  </tbody>\n",
       "</table>\n",
       "</div>"
      ],
      "text/plain": [
       "Empty DataFrame\n",
       "Columns: [timestamp, mi]\n",
       "Index: []"
      ]
     },
     "execution_count": 24,
     "metadata": {},
     "output_type": "execute_result"
    }
   ],
   "source": [
    "sr = []\n",
    "miu = []\n",
    "mid = []\n",
    "for i,row in df.iterrows():\n",
    "    #print(type(row['bid_supports']))\n",
    "    tot_vol = row['total_bid_volume']+row['total_ask_volume']\n",
    "    for r in row['bid_supports']['levels']:\n",
    "        if r['price']>row['base_price']*0.80:\n",
    "            sr.append({'timestamp': row['timestamp'],\n",
    "                    'price': r['price'],\n",
    "                    'pct': round((r['volume']/tot_vol)*100,0),\n",
    "                    })\n",
    "    for r in row['ask_resistances']['levels']:\n",
    "        if r['price']<row['base_price']*1.20:\n",
    "            sr.append({'timestamp': row['timestamp'],\n",
    "                    'price': r['price'],\n",
    "                    'pct': round((r['volume']/tot_vol)*100,0),\n",
    "                    })\n",
    "    if row['market_imbalance']['imbalance_pct']>0:\n",
    "        miu.append({'timestamp':row['timestamp'],\n",
    "                    'mi':-round(row['market_imbalance']['imbalance_pct'],2)})\n",
    "    if row['market_imbalance']['imbalance_pct']<0:\n",
    "        mid.append({'timestamp':row['timestamp'],\n",
    "                    'mi':-round(row['market_imbalance']['imbalance_pct'],2)})\n",
    "sr = pd.DataFrame(sr)\n",
    "sr_pct_max = sr['pct'].max()\n",
    "sr_pct_min = sr['pct'].min()\n",
    "miu = pd.DataFrame(miu, columns=['timestamp','mi'])\n",
    "mid = pd.DataFrame(mid, columns=['timestamp','mi'])\n",
    "mid\n"
   ]
  },
  {
   "cell_type": "markdown",
   "metadata": {},
   "source": [
    "## Creando Chart \n"
   ]
  },
  {
   "cell_type": "code",
   "execution_count": null,
   "metadata": {},
   "outputs": [
    {
     "data": {
      "application/vnd.plotly.v1+json": {
       "config": {
        "plotlyServerURL": "https://plot.ly",
        "scrollZoom": true
       },
       "data": [
        {
         "legendgroup": "1",
         "line": {
          "width": 0.75
         },
         "marker": {
          "color": "gray"
         },
         "mode": "lines",
         "name": "BTCUSDT",
         "type": "scatter",
         "x": [
          "2025-04-02T11:49:07.437880",
          "2025-04-02T11:53:07.622193",
          "2025-04-02T11:59:07.794252"
         ],
         "xaxis": "x",
         "y": [
          85529.565,
          85690.565,
          85896.845
         ],
         "yaxis": "y"
        },
        {
         "legendgroup": "1",
         "line": {
          "width": 0.75
         },
         "marker": {
          "color": "green"
         },
         "mode": "lines",
         "name": "BTCUSDT",
         "type": "scatter",
         "x": [
          "2025-04-02T11:49:07.437880",
          "2025-04-02T11:53:07.622193",
          "2025-04-02T11:59:07.794252"
         ],
         "xaxis": "x",
         "y": [
          85891.82,
          85891.82,
          86000
         ],
         "yaxis": "y"
        },
        {
         "legendgroup": "1",
         "line": {
          "width": 0.75
         },
         "marker": {
          "color": "red"
         },
         "mode": "lines",
         "name": "BTCUSDT",
         "type": "scatter",
         "x": [
          "2025-04-02T11:49:07.437880",
          "2025-04-02T11:53:07.622193",
          "2025-04-02T11:59:07.794252"
         ],
         "xaxis": "x",
         "y": [
          85445.6,
          85445.6,
          85445.6
         ],
         "yaxis": "y"
        },
        {
         "legendgroup": "1",
         "line": {
          "width": 0.75
         },
         "marker": {
          "color": "blue"
         },
         "mode": "lines",
         "name": "BTCUSDT",
         "type": "scatter",
         "x": [
          "2025-04-02T11:49:07.437880",
          "2025-04-02T11:53:07.622193",
          "2025-04-02T11:59:07.794252"
         ],
         "xaxis": "x",
         "y": [
          85529.57,
          85669.81,
          85896.85
         ],
         "yaxis": "y"
        },
        {
         "legendgroup": "1",
         "marker": {
          "color": [
           10,
           5,
           11,
           8,
           10,
           4,
           25,
           10
          ],
          "colorscale": [
           [
            0,
            "rgb(36, 86, 104)"
           ],
           [
            0.16666666666666666,
            "rgb(15, 114, 121)"
           ],
           [
            0.3333333333333333,
            "rgb(13, 143, 129)"
           ],
           [
            0.5,
            "rgb(57, 171, 126)"
           ],
           [
            0.6666666666666666,
            "rgb(110, 197, 116)"
           ],
           [
            0.8333333333333334,
            "rgb(169, 220, 103)"
           ],
           [
            1,
            "rgb(237, 239, 93)"
           ]
          ],
          "line": {
           "width": 0
          },
          "size": [
           10,
           5,
           11,
           8,
           10,
           4,
           25,
           10
          ],
          "symbol": "circle"
         },
         "mode": "markers",
         "name": "S&R",
         "type": "scatter",
         "x": [
          "2025-04-02T11:49:07.437880",
          "2025-04-02T11:49:07.437880",
          "2025-04-02T11:49:07.437880",
          "2025-04-02T11:53:07.622193",
          "2025-04-02T11:53:07.622193",
          "2025-04-02T11:59:07.794252",
          "2025-04-02T11:59:07.794252",
          "2025-04-02T11:59:07.794252"
         ],
         "xaxis": "x",
         "y": [
          84000,
          85529.57,
          85813.47,
          85687.62,
          86177.18,
          85896.84,
          86500,
          89500
         ],
         "yaxis": "y"
        },
        {
         "legendgroup": "2",
         "marker": {
          "color": "#f6465d",
          "line": {
           "width": 0
          }
         },
         "name": "BTCUSDT",
         "type": "bar",
         "x": [
          "2025-04-02T11:49:07.437880",
          "2025-04-02T11:53:07.622193",
          "2025-04-02T11:59:07.794252"
         ],
         "xaxis": "x2",
         "y": [
          -31.27,
          -27.4,
          -12.77
         ],
         "yaxis": "y2"
        },
        {
         "legendgroup": "2",
         "marker": {
          "color": "#0ecb81",
          "line": {
           "width": 0
          }
         },
         "name": "BTCUSDT",
         "type": "bar",
         "x": [],
         "xaxis": "x2",
         "y": [],
         "yaxis": "y2"
        }
       ],
       "layout": {
        "font": {
         "color": "#ffffff",
         "family": "Helvetica"
        },
        "height": 800,
        "legend": {
         "tracegroupgap": 100
        },
        "modebar": {
         "bgcolor": "rgba(0,0,0,0)"
        },
        "paper_bgcolor": "rgba(0,0,0,0)",
        "plot_bgcolor": "#162024",
        "template": {
         "data": {
          "bar": [
           {
            "error_x": {
             "color": "#2a3f5f"
            },
            "error_y": {
             "color": "#2a3f5f"
            },
            "marker": {
             "line": {
              "color": "#E5ECF6",
              "width": 0.5
             },
             "pattern": {
              "fillmode": "overlay",
              "size": 10,
              "solidity": 0.2
             }
            },
            "type": "bar"
           }
          ],
          "barpolar": [
           {
            "marker": {
             "line": {
              "color": "#E5ECF6",
              "width": 0.5
             },
             "pattern": {
              "fillmode": "overlay",
              "size": 10,
              "solidity": 0.2
             }
            },
            "type": "barpolar"
           }
          ],
          "carpet": [
           {
            "aaxis": {
             "endlinecolor": "#2a3f5f",
             "gridcolor": "white",
             "linecolor": "white",
             "minorgridcolor": "white",
             "startlinecolor": "#2a3f5f"
            },
            "baxis": {
             "endlinecolor": "#2a3f5f",
             "gridcolor": "white",
             "linecolor": "white",
             "minorgridcolor": "white",
             "startlinecolor": "#2a3f5f"
            },
            "type": "carpet"
           }
          ],
          "choropleth": [
           {
            "colorbar": {
             "outlinewidth": 0,
             "ticks": ""
            },
            "type": "choropleth"
           }
          ],
          "contour": [
           {
            "colorbar": {
             "outlinewidth": 0,
             "ticks": ""
            },
            "colorscale": [
             [
              0,
              "#0d0887"
             ],
             [
              0.1111111111111111,
              "#46039f"
             ],
             [
              0.2222222222222222,
              "#7201a8"
             ],
             [
              0.3333333333333333,
              "#9c179e"
             ],
             [
              0.4444444444444444,
              "#bd3786"
             ],
             [
              0.5555555555555556,
              "#d8576b"
             ],
             [
              0.6666666666666666,
              "#ed7953"
             ],
             [
              0.7777777777777778,
              "#fb9f3a"
             ],
             [
              0.8888888888888888,
              "#fdca26"
             ],
             [
              1,
              "#f0f921"
             ]
            ],
            "type": "contour"
           }
          ],
          "contourcarpet": [
           {
            "colorbar": {
             "outlinewidth": 0,
             "ticks": ""
            },
            "type": "contourcarpet"
           }
          ],
          "heatmap": [
           {
            "colorbar": {
             "outlinewidth": 0,
             "ticks": ""
            },
            "colorscale": [
             [
              0,
              "#0d0887"
             ],
             [
              0.1111111111111111,
              "#46039f"
             ],
             [
              0.2222222222222222,
              "#7201a8"
             ],
             [
              0.3333333333333333,
              "#9c179e"
             ],
             [
              0.4444444444444444,
              "#bd3786"
             ],
             [
              0.5555555555555556,
              "#d8576b"
             ],
             [
              0.6666666666666666,
              "#ed7953"
             ],
             [
              0.7777777777777778,
              "#fb9f3a"
             ],
             [
              0.8888888888888888,
              "#fdca26"
             ],
             [
              1,
              "#f0f921"
             ]
            ],
            "type": "heatmap"
           }
          ],
          "heatmapgl": [
           {
            "colorbar": {
             "outlinewidth": 0,
             "ticks": ""
            },
            "colorscale": [
             [
              0,
              "#0d0887"
             ],
             [
              0.1111111111111111,
              "#46039f"
             ],
             [
              0.2222222222222222,
              "#7201a8"
             ],
             [
              0.3333333333333333,
              "#9c179e"
             ],
             [
              0.4444444444444444,
              "#bd3786"
             ],
             [
              0.5555555555555556,
              "#d8576b"
             ],
             [
              0.6666666666666666,
              "#ed7953"
             ],
             [
              0.7777777777777778,
              "#fb9f3a"
             ],
             [
              0.8888888888888888,
              "#fdca26"
             ],
             [
              1,
              "#f0f921"
             ]
            ],
            "type": "heatmapgl"
           }
          ],
          "histogram": [
           {
            "marker": {
             "pattern": {
              "fillmode": "overlay",
              "size": 10,
              "solidity": 0.2
             }
            },
            "type": "histogram"
           }
          ],
          "histogram2d": [
           {
            "colorbar": {
             "outlinewidth": 0,
             "ticks": ""
            },
            "colorscale": [
             [
              0,
              "#0d0887"
             ],
             [
              0.1111111111111111,
              "#46039f"
             ],
             [
              0.2222222222222222,
              "#7201a8"
             ],
             [
              0.3333333333333333,
              "#9c179e"
             ],
             [
              0.4444444444444444,
              "#bd3786"
             ],
             [
              0.5555555555555556,
              "#d8576b"
             ],
             [
              0.6666666666666666,
              "#ed7953"
             ],
             [
              0.7777777777777778,
              "#fb9f3a"
             ],
             [
              0.8888888888888888,
              "#fdca26"
             ],
             [
              1,
              "#f0f921"
             ]
            ],
            "type": "histogram2d"
           }
          ],
          "histogram2dcontour": [
           {
            "colorbar": {
             "outlinewidth": 0,
             "ticks": ""
            },
            "colorscale": [
             [
              0,
              "#0d0887"
             ],
             [
              0.1111111111111111,
              "#46039f"
             ],
             [
              0.2222222222222222,
              "#7201a8"
             ],
             [
              0.3333333333333333,
              "#9c179e"
             ],
             [
              0.4444444444444444,
              "#bd3786"
             ],
             [
              0.5555555555555556,
              "#d8576b"
             ],
             [
              0.6666666666666666,
              "#ed7953"
             ],
             [
              0.7777777777777778,
              "#fb9f3a"
             ],
             [
              0.8888888888888888,
              "#fdca26"
             ],
             [
              1,
              "#f0f921"
             ]
            ],
            "type": "histogram2dcontour"
           }
          ],
          "mesh3d": [
           {
            "colorbar": {
             "outlinewidth": 0,
             "ticks": ""
            },
            "type": "mesh3d"
           }
          ],
          "parcoords": [
           {
            "line": {
             "colorbar": {
              "outlinewidth": 0,
              "ticks": ""
             }
            },
            "type": "parcoords"
           }
          ],
          "pie": [
           {
            "automargin": true,
            "type": "pie"
           }
          ],
          "scatter": [
           {
            "fillpattern": {
             "fillmode": "overlay",
             "size": 10,
             "solidity": 0.2
            },
            "type": "scatter"
           }
          ],
          "scatter3d": [
           {
            "line": {
             "colorbar": {
              "outlinewidth": 0,
              "ticks": ""
             }
            },
            "marker": {
             "colorbar": {
              "outlinewidth": 0,
              "ticks": ""
             }
            },
            "type": "scatter3d"
           }
          ],
          "scattercarpet": [
           {
            "marker": {
             "colorbar": {
              "outlinewidth": 0,
              "ticks": ""
             }
            },
            "type": "scattercarpet"
           }
          ],
          "scattergeo": [
           {
            "marker": {
             "colorbar": {
              "outlinewidth": 0,
              "ticks": ""
             }
            },
            "type": "scattergeo"
           }
          ],
          "scattergl": [
           {
            "marker": {
             "colorbar": {
              "outlinewidth": 0,
              "ticks": ""
             }
            },
            "type": "scattergl"
           }
          ],
          "scattermapbox": [
           {
            "marker": {
             "colorbar": {
              "outlinewidth": 0,
              "ticks": ""
             }
            },
            "type": "scattermapbox"
           }
          ],
          "scatterpolar": [
           {
            "marker": {
             "colorbar": {
              "outlinewidth": 0,
              "ticks": ""
             }
            },
            "type": "scatterpolar"
           }
          ],
          "scatterpolargl": [
           {
            "marker": {
             "colorbar": {
              "outlinewidth": 0,
              "ticks": ""
             }
            },
            "type": "scatterpolargl"
           }
          ],
          "scatterternary": [
           {
            "marker": {
             "colorbar": {
              "outlinewidth": 0,
              "ticks": ""
             }
            },
            "type": "scatterternary"
           }
          ],
          "surface": [
           {
            "colorbar": {
             "outlinewidth": 0,
             "ticks": ""
            },
            "colorscale": [
             [
              0,
              "#0d0887"
             ],
             [
              0.1111111111111111,
              "#46039f"
             ],
             [
              0.2222222222222222,
              "#7201a8"
             ],
             [
              0.3333333333333333,
              "#9c179e"
             ],
             [
              0.4444444444444444,
              "#bd3786"
             ],
             [
              0.5555555555555556,
              "#d8576b"
             ],
             [
              0.6666666666666666,
              "#ed7953"
             ],
             [
              0.7777777777777778,
              "#fb9f3a"
             ],
             [
              0.8888888888888888,
              "#fdca26"
             ],
             [
              1,
              "#f0f921"
             ]
            ],
            "type": "surface"
           }
          ],
          "table": [
           {
            "cells": {
             "fill": {
              "color": "#EBF0F8"
             },
             "line": {
              "color": "white"
             }
            },
            "header": {
             "fill": {
              "color": "#C8D4E3"
             },
             "line": {
              "color": "white"
             }
            },
            "type": "table"
           }
          ]
         },
         "layout": {
          "annotationdefaults": {
           "arrowcolor": "#2a3f5f",
           "arrowhead": 0,
           "arrowwidth": 1
          },
          "autotypenumbers": "strict",
          "coloraxis": {
           "colorbar": {
            "outlinewidth": 0,
            "ticks": ""
           }
          },
          "colorscale": {
           "diverging": [
            [
             0,
             "#8e0152"
            ],
            [
             0.1,
             "#c51b7d"
            ],
            [
             0.2,
             "#de77ae"
            ],
            [
             0.3,
             "#f1b6da"
            ],
            [
             0.4,
             "#fde0ef"
            ],
            [
             0.5,
             "#f7f7f7"
            ],
            [
             0.6,
             "#e6f5d0"
            ],
            [
             0.7,
             "#b8e186"
            ],
            [
             0.8,
             "#7fbc41"
            ],
            [
             0.9,
             "#4d9221"
            ],
            [
             1,
             "#276419"
            ]
           ],
           "sequential": [
            [
             0,
             "#0d0887"
            ],
            [
             0.1111111111111111,
             "#46039f"
            ],
            [
             0.2222222222222222,
             "#7201a8"
            ],
            [
             0.3333333333333333,
             "#9c179e"
            ],
            [
             0.4444444444444444,
             "#bd3786"
            ],
            [
             0.5555555555555556,
             "#d8576b"
            ],
            [
             0.6666666666666666,
             "#ed7953"
            ],
            [
             0.7777777777777778,
             "#fb9f3a"
            ],
            [
             0.8888888888888888,
             "#fdca26"
            ],
            [
             1,
             "#f0f921"
            ]
           ],
           "sequentialminus": [
            [
             0,
             "#0d0887"
            ],
            [
             0.1111111111111111,
             "#46039f"
            ],
            [
             0.2222222222222222,
             "#7201a8"
            ],
            [
             0.3333333333333333,
             "#9c179e"
            ],
            [
             0.4444444444444444,
             "#bd3786"
            ],
            [
             0.5555555555555556,
             "#d8576b"
            ],
            [
             0.6666666666666666,
             "#ed7953"
            ],
            [
             0.7777777777777778,
             "#fb9f3a"
            ],
            [
             0.8888888888888888,
             "#fdca26"
            ],
            [
             1,
             "#f0f921"
            ]
           ]
          },
          "colorway": [
           "#636efa",
           "#EF553B",
           "#00cc96",
           "#ab63fa",
           "#FFA15A",
           "#19d3f3",
           "#FF6692",
           "#B6E880",
           "#FF97FF",
           "#FECB52"
          ],
          "font": {
           "color": "#2a3f5f"
          },
          "geo": {
           "bgcolor": "white",
           "lakecolor": "white",
           "landcolor": "#E5ECF6",
           "showlakes": true,
           "showland": true,
           "subunitcolor": "white"
          },
          "hoverlabel": {
           "align": "left"
          },
          "hovermode": "closest",
          "mapbox": {
           "style": "light"
          },
          "paper_bgcolor": "white",
          "plot_bgcolor": "#E5ECF6",
          "polar": {
           "angularaxis": {
            "gridcolor": "white",
            "linecolor": "white",
            "ticks": ""
           },
           "bgcolor": "#E5ECF6",
           "radialaxis": {
            "gridcolor": "white",
            "linecolor": "white",
            "ticks": ""
           }
          },
          "scene": {
           "xaxis": {
            "backgroundcolor": "#E5ECF6",
            "gridcolor": "white",
            "gridwidth": 2,
            "linecolor": "white",
            "showbackground": true,
            "ticks": "",
            "zerolinecolor": "white"
           },
           "yaxis": {
            "backgroundcolor": "#E5ECF6",
            "gridcolor": "white",
            "gridwidth": 2,
            "linecolor": "white",
            "showbackground": true,
            "ticks": "",
            "zerolinecolor": "white"
           },
           "zaxis": {
            "backgroundcolor": "#E5ECF6",
            "gridcolor": "white",
            "gridwidth": 2,
            "linecolor": "white",
            "showbackground": true,
            "ticks": "",
            "zerolinecolor": "white"
           }
          },
          "shapedefaults": {
           "line": {
            "color": "#2a3f5f"
           }
          },
          "ternary": {
           "aaxis": {
            "gridcolor": "white",
            "linecolor": "white",
            "ticks": ""
           },
           "baxis": {
            "gridcolor": "white",
            "linecolor": "white",
            "ticks": ""
           },
           "bgcolor": "#E5ECF6",
           "caxis": {
            "gridcolor": "white",
            "linecolor": "white",
            "ticks": ""
           }
          },
          "title": {
           "x": 0.05
          },
          "xaxis": {
           "automargin": true,
           "gridcolor": "white",
           "linecolor": "white",
           "ticks": "",
           "title": {
            "standoff": 15
           },
           "zerolinecolor": "white",
           "zerolinewidth": 2
          },
          "yaxis": {
           "automargin": true,
           "gridcolor": "white",
           "linecolor": "white",
           "ticks": "",
           "title": {
            "standoff": 15
           },
           "zerolinecolor": "white",
           "zerolinewidth": 2
          }
         }
        },
        "xaxis": {
         "anchor": "y",
         "domain": [
          0,
          1
         ],
         "gridcolor": "rgba(0,0,0,0)",
         "linecolor": "#000000",
         "linewidth": 2,
         "matches": "x2",
         "rangeslider": {
          "visible": false
         },
         "showline": false,
         "showticklabels": false
        },
        "xaxis2": {
         "anchor": "y2",
         "domain": [
          0,
          1
         ],
         "gridcolor": "rgba(0,0,0,0)",
         "linecolor": "#000000",
         "linewidth": 2,
         "showline": false
        },
        "yaxis": {
         "anchor": "x",
         "domain": [
          0.3625,
          1
         ],
         "gridcolor": "rgba(50,50,50,255)",
         "linecolor": "#ff0000",
         "linewidth": 2,
         "showline": false,
         "showticklabels": true,
         "title": {
          "text": "Precio"
         },
         "zeroline": false
        },
        "yaxis2": {
         "anchor": "x2",
         "domain": [
          0,
          0.2125
         ],
         "gridcolor": "rgba(50,50,50,255)",
         "linecolor": "#ff0000",
         "linewidth": 2,
         "showline": false,
         "showticklabels": true,
         "title": {
          "text": "Balance del Mercado"
         },
         "zeroline": false
        }
       }
      }
     },
     "metadata": {},
     "output_type": "display_data"
    }
   ],
   "source": [
    "import plotly.graph_objects as go\n",
    "from plotly.subplots import make_subplots\n",
    "\n",
    "chart_rows = 2\n",
    "row_heights=[600,200]\n",
    "total_height = sum(row_heights)\n",
    "\n",
    "fig = make_subplots(rows=chart_rows, \n",
    "                    shared_xaxes=True,\n",
    "                    row_heights=row_heights,\n",
    "                    )\n",
    "\n",
    "fig.add_trace(\n",
    "        go.Scatter(\n",
    "            x=df[\"timestamp\"], y=df[\"base_price\"], name=f'{symbol} Price', mode=\"lines\",  \n",
    "            line={'width': 0.75},  \n",
    "            marker=dict(color='gray',),\n",
    "            legendgroup = '1',\n",
    "        ),\n",
    "        row=1,\n",
    "        col=1,\n",
    "    )  \n",
    "\n",
    "fig.add_trace(\n",
    "        go.Scatter(\n",
    "            x=df[\"timestamp\"], y=df[\"high\"], name=f'{symbol} High', mode=\"lines\",  \n",
    "            line={'width': 0.75},  \n",
    "            marker=dict(color='green',),\n",
    "            legendgroup = '1',\n",
    "        ),\n",
    "        row=1,\n",
    "        col=1,\n",
    "    )  \n",
    "\n",
    "fig.add_trace(\n",
    "        go.Scatter(\n",
    "            x=df[\"timestamp\"], y=df[\"low\"], name=f'{symbol} Low', mode=\"lines\",  \n",
    "            line={'width': 0.75},  \n",
    "            marker=dict(color='red',),\n",
    "            legendgroup = '1',\n",
    "        ),\n",
    "        row=1,\n",
    "        col=1,\n",
    "    )  \n",
    "\n",
    "fig.add_trace(\n",
    "        go.Scatter(\n",
    "            x=df[\"timestamp\"], y=df[\"close\"], name=f'{symbol} Close', mode=\"lines\",  \n",
    "            line={'width': 0.75},  \n",
    "            marker=dict(color='blue',),\n",
    "            legendgroup = '1',\n",
    "        ),\n",
    "        row=1,\n",
    "        col=1,\n",
    "    )  \n",
    "\n",
    "fig.add_trace(\n",
    "        go.Scatter(x=sr[\"timestamp\"], y=sr['price'], name='S&R', mode='markers', \n",
    "                marker=dict(symbol='circle',\n",
    "                            size=sr['pct'],\n",
    "                            color=sr['pct'],\n",
    "                            colorscale=\"Aggrnyl\",\n",
    "                            #showscale=True,\n",
    "                            line=dict(width=0,),\n",
    "                            ),\n",
    "                legendgroup = '1',\n",
    "                ),row=1,col=1,\n",
    ")\n",
    "\n",
    "fig.add_trace(\n",
    "        go.Bar(\n",
    "            x=miu[\"timestamp\"], y=miu[\"mi\"], name=f'{symbol}',  \n",
    "            marker=dict(color='#f6465d',\n",
    "                        line=dict(width=0,)\n",
    "                        ),\n",
    "            legendgroup = '2',\n",
    "        ),\n",
    "        row=2,\n",
    "        col=1,\n",
    "    )  \n",
    "fig.add_trace(\n",
    "        go.Bar(\n",
    "            x=mid[\"timestamp\"], y=mid[\"mi\"], name=f'{symbol}',  \n",
    "            marker=dict(color='#0ecb81',\n",
    "                        line=dict(width=0,)\n",
    "                        ),\n",
    "            legendgroup = '2',\n",
    "        ),\n",
    "        row=2,\n",
    "        col=1,\n",
    "    )  \n",
    "\n",
    "\n",
    "\n",
    "# Adjust layout for subplots\n",
    "fig.update_layout(\n",
    "    font=dict(color=\"#ffffff\", family=\"Helvetica\"),\n",
    "    paper_bgcolor=\"rgba(0,0,0,0)\",  # Transparent background\n",
    "    plot_bgcolor=\"#162024\",  \n",
    "    height=total_height,\n",
    "    xaxis_rangeslider_visible=False,\n",
    "    modebar_bgcolor=\"rgba(0,0,0,0)\",\n",
    "    legend_tracegroupgap = 100,\n",
    ")\n",
    "\n",
    "#Ajustar el tamaño de cada sub_plot\n",
    "fig.update_layout(\n",
    "    yaxis1=dict(title=\"Precio\",showticklabels=True,),\n",
    "    yaxis2=dict(title=\"Balance del Mercado\",showticklabels=True,),\n",
    ")\n",
    "fig.update_xaxes(showline=False, linewidth=2,linecolor='#000000', gridcolor='rgba(0,0,0,0)')\n",
    "fig.update_yaxes(showline=False, linewidth=2, zeroline= False, linecolor='#ff0000', gridcolor='rgba(50,50,50,255)')     \n",
    "chart = fig.show(config = {'scrollZoom': True, })"
   ]
  },
  {
   "cell_type": "code",
   "execution_count": null,
   "metadata": {},
   "outputs": [],
   "source": []
  }
 ],
 "metadata": {
  "kernelspec": {
   "display_name": ".venv",
   "language": "python",
   "name": "python3"
  },
  "language_info": {
   "codemirror_mode": {
    "name": "ipython",
    "version": 3
   },
   "file_extension": ".py",
   "mimetype": "text/x-python",
   "name": "python",
   "nbconvert_exporter": "python",
   "pygments_lexer": "ipython3",
   "version": "3.8.0"
  }
 },
 "nbformat": 4,
 "nbformat_minor": 2
}
