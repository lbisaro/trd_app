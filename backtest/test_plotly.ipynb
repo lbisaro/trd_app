{
 "cells": [
  {
   "cell_type": "code",
   "execution_count": 1,
   "metadata": {},
   "outputs": [
    {
     "name": "stdout",
     "output_type": "stream",
     "text": [
      "c:\\Users\\lbisa\\Mi unidad (leonardo.bisaro@gmail.com)\\Cripto\\python\\trd_app\\backtest ->  C:\\Users\\lbisa\\Mi unidad (leonardo.bisaro@gmail.com)\\Cripto\\python\\trd_app\n"
     ]
    }
   ],
   "source": [
    "import pandas as pd\n",
    "import numpy as np\n",
    "import os\n",
    "import plotly.graph_objects as go\n",
    "\n",
    "from config import BASE_DIR\n",
    "print(os.getcwd()+' -> ',end=' ')\n",
    "os.chdir(BASE_DIR)\n",
    "print(BASE_DIR)\n",
    "from scripts.functions import ohlc_chart"
   ]
  },
  {
   "cell_type": "code",
   "execution_count": 2,
   "metadata": {},
   "outputs": [
    {
     "data": {
      "application/vnd.plotly.v1+json": {
       "config": {
        "plotlyServerURL": "https://plot.ly"
       },
       "data": [
        {
         "close": [
          111,
          161,
          201,
          150,
          164,
          109,
          138,
          195,
          199,
          171,
          208,
          187,
          184,
          253,
          68,
          129,
          139,
          156,
          140,
          175,
          257,
          165,
          162,
          95,
          105,
          164,
          214,
          178,
          250,
          247,
          166
         ],
         "decreasing": {
          "line": {
           "color": "rgba(8,153,129,0.5)"
          }
         },
         "high": [
          283,
          169,
          202,
          287,
          288,
          124,
          261,
          227,
          273,
          177,
          217,
          195,
          269,
          283,
          288,
          160,
          232,
          200,
          159,
          194,
          268,
          180,
          196,
          136,
          299,
          199,
          240,
          264,
          285,
          263,
          204
         ],
         "increasing": {
          "line": {
           "color": "rgba(242,54,69,0.5)"
          }
         },
         "line": {
          "width": 0.75
         },
         "low": [
          61,
          115,
          71,
          67,
          130,
          102,
          113,
          133,
          126,
          155,
          107,
          113,
          94,
          149,
          55,
          126,
          138,
          128,
          67,
          113,
          62,
          135,
          117,
          91,
          81,
          116,
          97,
          87,
          123,
          102,
          165
         ],
         "name": "BTCUDST",
         "open": [
          128,
          144,
          193,
          135,
          155,
          121,
          154,
          138,
          146,
          158,
          168,
          175,
          192,
          185,
          158,
          127,
          149,
          162,
          137,
          165,
          170,
          143,
          130,
          114,
          167,
          151,
          100,
          128,
          127,
          137,
          191
         ],
         "type": "candlestick",
         "x": [
          "2023-01-01T00:00:00",
          "2023-01-02T00:00:00",
          "2023-01-03T00:00:00",
          "2023-01-04T00:00:00",
          "2023-01-05T00:00:00",
          "2023-01-06T00:00:00",
          "2023-01-07T00:00:00",
          "2023-01-08T00:00:00",
          "2023-01-09T00:00:00",
          "2023-01-10T00:00:00",
          "2023-01-11T00:00:00",
          "2023-01-12T00:00:00",
          "2023-01-13T00:00:00",
          "2023-01-14T00:00:00",
          "2023-01-15T00:00:00",
          "2023-01-16T00:00:00",
          "2023-01-17T00:00:00",
          "2023-01-18T00:00:00",
          "2023-01-19T00:00:00",
          "2023-01-20T00:00:00",
          "2023-01-21T00:00:00",
          "2023-01-22T00:00:00",
          "2023-01-23T00:00:00",
          "2023-01-24T00:00:00",
          "2023-01-25T00:00:00",
          "2023-01-26T00:00:00",
          "2023-01-27T00:00:00",
          "2023-01-28T00:00:00",
          "2023-01-29T00:00:00",
          "2023-01-30T00:00:00",
          "2023-01-31T00:00:00"
         ],
         "xaxis": "x",
         "yaxis": "y"
        },
        {
         "marker": {
          "color": "rgba(126,198,222,0.2)",
          "line": {
           "width": 0
          }
         },
         "name": "Volumen",
         "type": "bar",
         "x": [
          "2023-01-01T00:00:00",
          "2023-01-02T00:00:00",
          "2023-01-03T00:00:00",
          "2023-01-04T00:00:00",
          "2023-01-05T00:00:00",
          "2023-01-06T00:00:00",
          "2023-01-07T00:00:00",
          "2023-01-08T00:00:00",
          "2023-01-09T00:00:00",
          "2023-01-10T00:00:00",
          "2023-01-11T00:00:00",
          "2023-01-12T00:00:00",
          "2023-01-13T00:00:00",
          "2023-01-14T00:00:00",
          "2023-01-15T00:00:00",
          "2023-01-16T00:00:00",
          "2023-01-17T00:00:00",
          "2023-01-18T00:00:00",
          "2023-01-19T00:00:00",
          "2023-01-20T00:00:00",
          "2023-01-21T00:00:00",
          "2023-01-22T00:00:00",
          "2023-01-23T00:00:00",
          "2023-01-24T00:00:00",
          "2023-01-25T00:00:00",
          "2023-01-26T00:00:00",
          "2023-01-27T00:00:00",
          "2023-01-28T00:00:00",
          "2023-01-29T00:00:00",
          "2023-01-30T00:00:00",
          "2023-01-31T00:00:00"
         ],
         "xaxis": "x2",
         "y": [
          25100,
          25122,
          30033,
          15365,
          44539,
          19728,
          21996,
          23050,
          38763,
          12778,
          32443,
          38675,
          23106,
          31427,
          49645,
          32212,
          47956,
          39470,
          29912,
          47727,
          49007,
          25566,
          21219,
          17697,
          39077,
          42193,
          36926,
          26776,
          29020,
          44241,
          26471
         ],
         "yaxis": "y2"
        },
        {
         "marker": {
          "color": "green",
          "line": {
           "color": "black",
           "width": 0.75
          },
          "size": 8,
          "symbol": "triangle-up"
         },
         "mode": "markers",
         "name": "BUY",
         "type": "scatter",
         "x": [
          "2023-01-01T09:00:00",
          "2023-01-01T17:20:00",
          "2023-01-02T01:40:00",
          "2023-01-02T10:00:00",
          "2023-01-02T18:20:00",
          "2023-01-03T02:40:00",
          "2023-01-03T11:00:00",
          "2023-01-03T19:20:00",
          "2023-01-04T03:40:00",
          "2023-01-04T12:00:00",
          "2023-01-04T20:20:00",
          "2023-01-05T04:40:00",
          "2023-01-05T13:00:00",
          "2023-01-05T21:20:00",
          "2023-01-06T05:40:00",
          "2023-01-06T14:00:00",
          "2023-01-06T22:20:00",
          "2023-01-07T06:40:00",
          "2023-01-07T15:00:00",
          "2023-01-07T23:20:00",
          "2023-01-08T07:40:00",
          "2023-01-08T16:00:00",
          "2023-01-09T00:20:00",
          "2023-01-09T08:40:00",
          "2023-01-09T17:00:00",
          "2023-01-10T01:20:00",
          "2023-01-10T09:40:00",
          "2023-01-10T18:00:00",
          "2023-01-11T02:20:00",
          "2023-01-11T10:40:00",
          "2023-01-11T19:00:00",
          "2023-01-12T03:20:00",
          "2023-01-12T11:40:00",
          "2023-01-12T20:00:00",
          "2023-01-13T04:20:00",
          "2023-01-13T12:40:00",
          "2023-01-13T21:00:00",
          "2023-01-14T05:20:00",
          "2023-01-14T13:40:00",
          "2023-01-14T22:00:00",
          "2023-01-15T06:20:00",
          "2023-01-15T14:40:00",
          "2023-01-15T23:00:00",
          "2023-01-16T07:20:00",
          "2023-01-16T15:40:00",
          "2023-01-17T00:00:00",
          "2023-01-17T08:20:00",
          "2023-01-17T16:40:00",
          "2023-01-18T01:00:00",
          "2023-01-18T09:20:00",
          "2023-01-18T17:40:00",
          "2023-01-19T02:00:00",
          "2023-01-19T10:20:00",
          "2023-01-19T18:40:00",
          "2023-01-20T03:00:00",
          "2023-01-20T11:20:00",
          "2023-01-20T19:40:00",
          "2023-01-21T04:00:00",
          "2023-01-21T12:20:00",
          "2023-01-21T20:40:00",
          "2023-01-22T05:00:00",
          "2023-01-22T13:20:00",
          "2023-01-22T21:40:00",
          "2023-01-23T06:00:00",
          "2023-01-23T14:20:00",
          "2023-01-23T22:40:00",
          "2023-01-24T07:00:00",
          "2023-01-24T15:20:00",
          "2023-01-24T23:40:00",
          "2023-01-25T08:00:00",
          "2023-01-25T16:20:00",
          "2023-01-26T00:40:00",
          "2023-01-26T09:00:00",
          "2023-01-26T17:20:00",
          "2023-01-27T01:40:00",
          "2023-01-27T10:00:00",
          "2023-01-27T18:20:00",
          "2023-01-28T02:40:00",
          "2023-01-28T11:00:00",
          "2023-01-28T19:20:00",
          "2023-01-29T03:40:00",
          "2023-01-29T12:00:00",
          "2023-01-29T20:20:00",
          "2023-01-30T04:40:00",
          "2023-01-30T13:00:00",
          "2023-01-30T21:20:00",
          "2023-01-31T05:40:00",
          "2023-01-31T14:00:00"
         ],
         "xaxis": "x",
         "y": [
          null,
          null,
          null,
          98,
          250,
          228,
          null,
          284,
          null,
          null,
          null,
          214,
          null,
          139,
          null,
          109,
          124,
          null,
          null,
          null,
          105,
          null,
          null,
          152,
          293,
          null,
          123,
          null,
          254,
          null,
          261,
          null,
          null,
          178,
          null,
          null,
          277,
          261,
          152,
          null,
          null,
          60,
          119,
          99,
          null,
          null,
          null,
          null,
          null,
          null,
          null,
          null,
          238,
          null,
          209,
          null,
          null,
          null,
          285,
          247,
          245,
          105,
          56,
          null,
          178,
          null,
          88,
          null,
          null,
          null,
          98,
          232,
          157,
          154,
          null,
          null,
          56,
          284,
          null,
          126,
          null,
          null,
          null,
          81,
          null,
          180,
          null,
          null
         ],
         "yaxis": "y"
        },
        {
         "marker": {
          "color": "red",
          "line": {
           "color": "black",
           "width": 0.75
          },
          "size": 8,
          "symbol": "triangle-down"
         },
         "mode": "markers",
         "name": "SELL",
         "type": "scatter",
         "x": [
          "2023-01-01T09:00:00",
          "2023-01-01T17:20:00",
          "2023-01-02T01:40:00",
          "2023-01-02T10:00:00",
          "2023-01-02T18:20:00",
          "2023-01-03T02:40:00",
          "2023-01-03T11:00:00",
          "2023-01-03T19:20:00",
          "2023-01-04T03:40:00",
          "2023-01-04T12:00:00",
          "2023-01-04T20:20:00",
          "2023-01-05T04:40:00",
          "2023-01-05T13:00:00",
          "2023-01-05T21:20:00",
          "2023-01-06T05:40:00",
          "2023-01-06T14:00:00",
          "2023-01-06T22:20:00",
          "2023-01-07T06:40:00",
          "2023-01-07T15:00:00",
          "2023-01-07T23:20:00",
          "2023-01-08T07:40:00",
          "2023-01-08T16:00:00",
          "2023-01-09T00:20:00",
          "2023-01-09T08:40:00",
          "2023-01-09T17:00:00",
          "2023-01-10T01:20:00",
          "2023-01-10T09:40:00",
          "2023-01-10T18:00:00",
          "2023-01-11T02:20:00",
          "2023-01-11T10:40:00",
          "2023-01-11T19:00:00",
          "2023-01-12T03:20:00",
          "2023-01-12T11:40:00",
          "2023-01-12T20:00:00",
          "2023-01-13T04:20:00",
          "2023-01-13T12:40:00",
          "2023-01-13T21:00:00",
          "2023-01-14T05:20:00",
          "2023-01-14T13:40:00",
          "2023-01-14T22:00:00",
          "2023-01-15T06:20:00",
          "2023-01-15T14:40:00",
          "2023-01-15T23:00:00",
          "2023-01-16T07:20:00",
          "2023-01-16T15:40:00",
          "2023-01-17T00:00:00",
          "2023-01-17T08:20:00",
          "2023-01-17T16:40:00",
          "2023-01-18T01:00:00",
          "2023-01-18T09:20:00",
          "2023-01-18T17:40:00",
          "2023-01-19T02:00:00",
          "2023-01-19T10:20:00",
          "2023-01-19T18:40:00",
          "2023-01-20T03:00:00",
          "2023-01-20T11:20:00",
          "2023-01-20T19:40:00",
          "2023-01-21T04:00:00",
          "2023-01-21T12:20:00",
          "2023-01-21T20:40:00",
          "2023-01-22T05:00:00",
          "2023-01-22T13:20:00",
          "2023-01-22T21:40:00",
          "2023-01-23T06:00:00",
          "2023-01-23T14:20:00",
          "2023-01-23T22:40:00",
          "2023-01-24T07:00:00",
          "2023-01-24T15:20:00",
          "2023-01-24T23:40:00",
          "2023-01-25T08:00:00",
          "2023-01-25T16:20:00",
          "2023-01-26T00:40:00",
          "2023-01-26T09:00:00",
          "2023-01-26T17:20:00",
          "2023-01-27T01:40:00",
          "2023-01-27T10:00:00",
          "2023-01-27T18:20:00",
          "2023-01-28T02:40:00",
          "2023-01-28T11:00:00",
          "2023-01-28T19:20:00",
          "2023-01-29T03:40:00",
          "2023-01-29T12:00:00",
          "2023-01-29T20:20:00",
          "2023-01-30T04:40:00",
          "2023-01-30T13:00:00",
          "2023-01-30T21:20:00",
          "2023-01-31T05:40:00",
          "2023-01-31T14:00:00"
         ],
         "xaxis": "x",
         "y": [
          225,
          157,
          260,
          null,
          null,
          null,
          210,
          null,
          237,
          214,
          266,
          null,
          255,
          null,
          262,
          null,
          null,
          51,
          109,
          217,
          null,
          146,
          269,
          null,
          null,
          94,
          null,
          242,
          null,
          176,
          null,
          157,
          178,
          null,
          129,
          83,
          null,
          null,
          null,
          152,
          107,
          null,
          null,
          null,
          267,
          242,
          139,
          209,
          131,
          246,
          174,
          90,
          null,
          239,
          null,
          53,
          79,
          270,
          null,
          null,
          null,
          null,
          null,
          184,
          null,
          108,
          null,
          149,
          115,
          205,
          null,
          null,
          null,
          null,
          292,
          179,
          null,
          null,
          137,
          null,
          259,
          257,
          105,
          null,
          78,
          null,
          195,
          131
         ],
         "yaxis": "y"
        }
       ],
       "layout": {
        "font": {
         "color": "#ffffff",
         "family": "Helvetica"
        },
        "height": 600,
        "legend": {
         "orientation": "h",
         "x": 0,
         "xanchor": "left",
         "y": 1.02,
         "yanchor": "bottom"
        },
        "modebar": {
         "bgcolor": "rgba(0,0,0,0)"
        },
        "paper_bgcolor": "rgba(0,0,0,0)",
        "plot_bgcolor": "rgba(0,0,0,0)",
        "template": {
         "data": {
          "bar": [
           {
            "error_x": {
             "color": "#2a3f5f"
            },
            "error_y": {
             "color": "#2a3f5f"
            },
            "marker": {
             "line": {
              "color": "#E5ECF6",
              "width": 0.5
             },
             "pattern": {
              "fillmode": "overlay",
              "size": 10,
              "solidity": 0.2
             }
            },
            "type": "bar"
           }
          ],
          "barpolar": [
           {
            "marker": {
             "line": {
              "color": "#E5ECF6",
              "width": 0.5
             },
             "pattern": {
              "fillmode": "overlay",
              "size": 10,
              "solidity": 0.2
             }
            },
            "type": "barpolar"
           }
          ],
          "carpet": [
           {
            "aaxis": {
             "endlinecolor": "#2a3f5f",
             "gridcolor": "white",
             "linecolor": "white",
             "minorgridcolor": "white",
             "startlinecolor": "#2a3f5f"
            },
            "baxis": {
             "endlinecolor": "#2a3f5f",
             "gridcolor": "white",
             "linecolor": "white",
             "minorgridcolor": "white",
             "startlinecolor": "#2a3f5f"
            },
            "type": "carpet"
           }
          ],
          "choropleth": [
           {
            "colorbar": {
             "outlinewidth": 0,
             "ticks": ""
            },
            "type": "choropleth"
           }
          ],
          "contour": [
           {
            "colorbar": {
             "outlinewidth": 0,
             "ticks": ""
            },
            "colorscale": [
             [
              0,
              "#0d0887"
             ],
             [
              0.1111111111111111,
              "#46039f"
             ],
             [
              0.2222222222222222,
              "#7201a8"
             ],
             [
              0.3333333333333333,
              "#9c179e"
             ],
             [
              0.4444444444444444,
              "#bd3786"
             ],
             [
              0.5555555555555556,
              "#d8576b"
             ],
             [
              0.6666666666666666,
              "#ed7953"
             ],
             [
              0.7777777777777778,
              "#fb9f3a"
             ],
             [
              0.8888888888888888,
              "#fdca26"
             ],
             [
              1,
              "#f0f921"
             ]
            ],
            "type": "contour"
           }
          ],
          "contourcarpet": [
           {
            "colorbar": {
             "outlinewidth": 0,
             "ticks": ""
            },
            "type": "contourcarpet"
           }
          ],
          "heatmap": [
           {
            "colorbar": {
             "outlinewidth": 0,
             "ticks": ""
            },
            "colorscale": [
             [
              0,
              "#0d0887"
             ],
             [
              0.1111111111111111,
              "#46039f"
             ],
             [
              0.2222222222222222,
              "#7201a8"
             ],
             [
              0.3333333333333333,
              "#9c179e"
             ],
             [
              0.4444444444444444,
              "#bd3786"
             ],
             [
              0.5555555555555556,
              "#d8576b"
             ],
             [
              0.6666666666666666,
              "#ed7953"
             ],
             [
              0.7777777777777778,
              "#fb9f3a"
             ],
             [
              0.8888888888888888,
              "#fdca26"
             ],
             [
              1,
              "#f0f921"
             ]
            ],
            "type": "heatmap"
           }
          ],
          "heatmapgl": [
           {
            "colorbar": {
             "outlinewidth": 0,
             "ticks": ""
            },
            "colorscale": [
             [
              0,
              "#0d0887"
             ],
             [
              0.1111111111111111,
              "#46039f"
             ],
             [
              0.2222222222222222,
              "#7201a8"
             ],
             [
              0.3333333333333333,
              "#9c179e"
             ],
             [
              0.4444444444444444,
              "#bd3786"
             ],
             [
              0.5555555555555556,
              "#d8576b"
             ],
             [
              0.6666666666666666,
              "#ed7953"
             ],
             [
              0.7777777777777778,
              "#fb9f3a"
             ],
             [
              0.8888888888888888,
              "#fdca26"
             ],
             [
              1,
              "#f0f921"
             ]
            ],
            "type": "heatmapgl"
           }
          ],
          "histogram": [
           {
            "marker": {
             "pattern": {
              "fillmode": "overlay",
              "size": 10,
              "solidity": 0.2
             }
            },
            "type": "histogram"
           }
          ],
          "histogram2d": [
           {
            "colorbar": {
             "outlinewidth": 0,
             "ticks": ""
            },
            "colorscale": [
             [
              0,
              "#0d0887"
             ],
             [
              0.1111111111111111,
              "#46039f"
             ],
             [
              0.2222222222222222,
              "#7201a8"
             ],
             [
              0.3333333333333333,
              "#9c179e"
             ],
             [
              0.4444444444444444,
              "#bd3786"
             ],
             [
              0.5555555555555556,
              "#d8576b"
             ],
             [
              0.6666666666666666,
              "#ed7953"
             ],
             [
              0.7777777777777778,
              "#fb9f3a"
             ],
             [
              0.8888888888888888,
              "#fdca26"
             ],
             [
              1,
              "#f0f921"
             ]
            ],
            "type": "histogram2d"
           }
          ],
          "histogram2dcontour": [
           {
            "colorbar": {
             "outlinewidth": 0,
             "ticks": ""
            },
            "colorscale": [
             [
              0,
              "#0d0887"
             ],
             [
              0.1111111111111111,
              "#46039f"
             ],
             [
              0.2222222222222222,
              "#7201a8"
             ],
             [
              0.3333333333333333,
              "#9c179e"
             ],
             [
              0.4444444444444444,
              "#bd3786"
             ],
             [
              0.5555555555555556,
              "#d8576b"
             ],
             [
              0.6666666666666666,
              "#ed7953"
             ],
             [
              0.7777777777777778,
              "#fb9f3a"
             ],
             [
              0.8888888888888888,
              "#fdca26"
             ],
             [
              1,
              "#f0f921"
             ]
            ],
            "type": "histogram2dcontour"
           }
          ],
          "mesh3d": [
           {
            "colorbar": {
             "outlinewidth": 0,
             "ticks": ""
            },
            "type": "mesh3d"
           }
          ],
          "parcoords": [
           {
            "line": {
             "colorbar": {
              "outlinewidth": 0,
              "ticks": ""
             }
            },
            "type": "parcoords"
           }
          ],
          "pie": [
           {
            "automargin": true,
            "type": "pie"
           }
          ],
          "scatter": [
           {
            "fillpattern": {
             "fillmode": "overlay",
             "size": 10,
             "solidity": 0.2
            },
            "type": "scatter"
           }
          ],
          "scatter3d": [
           {
            "line": {
             "colorbar": {
              "outlinewidth": 0,
              "ticks": ""
             }
            },
            "marker": {
             "colorbar": {
              "outlinewidth": 0,
              "ticks": ""
             }
            },
            "type": "scatter3d"
           }
          ],
          "scattercarpet": [
           {
            "marker": {
             "colorbar": {
              "outlinewidth": 0,
              "ticks": ""
             }
            },
            "type": "scattercarpet"
           }
          ],
          "scattergeo": [
           {
            "marker": {
             "colorbar": {
              "outlinewidth": 0,
              "ticks": ""
             }
            },
            "type": "scattergeo"
           }
          ],
          "scattergl": [
           {
            "marker": {
             "colorbar": {
              "outlinewidth": 0,
              "ticks": ""
             }
            },
            "type": "scattergl"
           }
          ],
          "scattermapbox": [
           {
            "marker": {
             "colorbar": {
              "outlinewidth": 0,
              "ticks": ""
             }
            },
            "type": "scattermapbox"
           }
          ],
          "scatterpolar": [
           {
            "marker": {
             "colorbar": {
              "outlinewidth": 0,
              "ticks": ""
             }
            },
            "type": "scatterpolar"
           }
          ],
          "scatterpolargl": [
           {
            "marker": {
             "colorbar": {
              "outlinewidth": 0,
              "ticks": ""
             }
            },
            "type": "scatterpolargl"
           }
          ],
          "scatterternary": [
           {
            "marker": {
             "colorbar": {
              "outlinewidth": 0,
              "ticks": ""
             }
            },
            "type": "scatterternary"
           }
          ],
          "surface": [
           {
            "colorbar": {
             "outlinewidth": 0,
             "ticks": ""
            },
            "colorscale": [
             [
              0,
              "#0d0887"
             ],
             [
              0.1111111111111111,
              "#46039f"
             ],
             [
              0.2222222222222222,
              "#7201a8"
             ],
             [
              0.3333333333333333,
              "#9c179e"
             ],
             [
              0.4444444444444444,
              "#bd3786"
             ],
             [
              0.5555555555555556,
              "#d8576b"
             ],
             [
              0.6666666666666666,
              "#ed7953"
             ],
             [
              0.7777777777777778,
              "#fb9f3a"
             ],
             [
              0.8888888888888888,
              "#fdca26"
             ],
             [
              1,
              "#f0f921"
             ]
            ],
            "type": "surface"
           }
          ],
          "table": [
           {
            "cells": {
             "fill": {
              "color": "#EBF0F8"
             },
             "line": {
              "color": "white"
             }
            },
            "header": {
             "fill": {
              "color": "#C8D4E3"
             },
             "line": {
              "color": "white"
             }
            },
            "type": "table"
           }
          ]
         },
         "layout": {
          "annotationdefaults": {
           "arrowcolor": "#2a3f5f",
           "arrowhead": 0,
           "arrowwidth": 1
          },
          "autotypenumbers": "strict",
          "coloraxis": {
           "colorbar": {
            "outlinewidth": 0,
            "ticks": ""
           }
          },
          "colorscale": {
           "diverging": [
            [
             0,
             "#8e0152"
            ],
            [
             0.1,
             "#c51b7d"
            ],
            [
             0.2,
             "#de77ae"
            ],
            [
             0.3,
             "#f1b6da"
            ],
            [
             0.4,
             "#fde0ef"
            ],
            [
             0.5,
             "#f7f7f7"
            ],
            [
             0.6,
             "#e6f5d0"
            ],
            [
             0.7,
             "#b8e186"
            ],
            [
             0.8,
             "#7fbc41"
            ],
            [
             0.9,
             "#4d9221"
            ],
            [
             1,
             "#276419"
            ]
           ],
           "sequential": [
            [
             0,
             "#0d0887"
            ],
            [
             0.1111111111111111,
             "#46039f"
            ],
            [
             0.2222222222222222,
             "#7201a8"
            ],
            [
             0.3333333333333333,
             "#9c179e"
            ],
            [
             0.4444444444444444,
             "#bd3786"
            ],
            [
             0.5555555555555556,
             "#d8576b"
            ],
            [
             0.6666666666666666,
             "#ed7953"
            ],
            [
             0.7777777777777778,
             "#fb9f3a"
            ],
            [
             0.8888888888888888,
             "#fdca26"
            ],
            [
             1,
             "#f0f921"
            ]
           ],
           "sequentialminus": [
            [
             0,
             "#0d0887"
            ],
            [
             0.1111111111111111,
             "#46039f"
            ],
            [
             0.2222222222222222,
             "#7201a8"
            ],
            [
             0.3333333333333333,
             "#9c179e"
            ],
            [
             0.4444444444444444,
             "#bd3786"
            ],
            [
             0.5555555555555556,
             "#d8576b"
            ],
            [
             0.6666666666666666,
             "#ed7953"
            ],
            [
             0.7777777777777778,
             "#fb9f3a"
            ],
            [
             0.8888888888888888,
             "#fdca26"
            ],
            [
             1,
             "#f0f921"
            ]
           ]
          },
          "colorway": [
           "#636efa",
           "#EF553B",
           "#00cc96",
           "#ab63fa",
           "#FFA15A",
           "#19d3f3",
           "#FF6692",
           "#B6E880",
           "#FF97FF",
           "#FECB52"
          ],
          "font": {
           "color": "#2a3f5f"
          },
          "geo": {
           "bgcolor": "white",
           "lakecolor": "white",
           "landcolor": "#E5ECF6",
           "showlakes": true,
           "showland": true,
           "subunitcolor": "white"
          },
          "hoverlabel": {
           "align": "left"
          },
          "hovermode": "closest",
          "mapbox": {
           "style": "light"
          },
          "paper_bgcolor": "white",
          "plot_bgcolor": "#E5ECF6",
          "polar": {
           "angularaxis": {
            "gridcolor": "white",
            "linecolor": "white",
            "ticks": ""
           },
           "bgcolor": "#E5ECF6",
           "radialaxis": {
            "gridcolor": "white",
            "linecolor": "white",
            "ticks": ""
           }
          },
          "scene": {
           "xaxis": {
            "backgroundcolor": "#E5ECF6",
            "gridcolor": "white",
            "gridwidth": 2,
            "linecolor": "white",
            "showbackground": true,
            "ticks": "",
            "zerolinecolor": "white"
           },
           "yaxis": {
            "backgroundcolor": "#E5ECF6",
            "gridcolor": "white",
            "gridwidth": 2,
            "linecolor": "white",
            "showbackground": true,
            "ticks": "",
            "zerolinecolor": "white"
           },
           "zaxis": {
            "backgroundcolor": "#E5ECF6",
            "gridcolor": "white",
            "gridwidth": 2,
            "linecolor": "white",
            "showbackground": true,
            "ticks": "",
            "zerolinecolor": "white"
           }
          },
          "shapedefaults": {
           "line": {
            "color": "#2a3f5f"
           }
          },
          "ternary": {
           "aaxis": {
            "gridcolor": "white",
            "linecolor": "white",
            "ticks": ""
           },
           "baxis": {
            "gridcolor": "white",
            "linecolor": "white",
            "ticks": ""
           },
           "bgcolor": "#E5ECF6",
           "caxis": {
            "gridcolor": "white",
            "linecolor": "white",
            "ticks": ""
           }
          },
          "title": {
           "x": 0.05
          },
          "xaxis": {
           "automargin": true,
           "gridcolor": "white",
           "linecolor": "white",
           "ticks": "",
           "title": {
            "standoff": 15
           },
           "zerolinecolor": "white",
           "zerolinewidth": 2
          },
          "yaxis": {
           "automargin": true,
           "gridcolor": "white",
           "linecolor": "white",
           "ticks": "",
           "title": {
            "standoff": 15
           },
           "zerolinecolor": "white",
           "zerolinewidth": 2
          }
         }
        },
        "xaxis": {
         "anchor": "y",
         "domain": [
          0,
          1
         ],
         "gridcolor": "#40444e",
         "linecolor": "#40444e",
         "linewidth": 0.5,
         "matches": "x2",
         "rangeslider": {
          "visible": false
         },
         "showline": false,
         "showticklabels": false
        },
        "xaxis2": {
         "anchor": "y2",
         "domain": [
          0,
          1
         ],
         "gridcolor": "#40444e",
         "linecolor": "#40444e",
         "linewidth": 0.5,
         "showline": false
        },
        "yaxis": {
         "anchor": "x",
         "domain": [
          0,
          1
         ],
         "gridcolor": "rgba(0,0,0,0)",
         "linecolor": "rgba(0,0,0,0)",
         "linewidth": 0,
         "showline": false,
         "showticklabels": true,
         "zeroline": false
        },
        "yaxis2": {
         "anchor": "x2",
         "domain": [
          0,
          0.2
         ],
         "gridcolor": "rgba(0,0,0,0)",
         "linecolor": "rgba(0,0,0,0)",
         "linewidth": 0,
         "showline": false,
         "showticklabels": false,
         "zeroline": false
        },
        "yaxis3": {
         "domain": [
          0,
          0
         ],
         "gridcolor": "rgba(0,0,0,0)",
         "linecolor": "rgba(0,0,0,0)",
         "linewidth": 0,
         "showline": false,
         "showticklabels": true,
         "zeroline": false
        }
       }
      }
     },
     "metadata": {},
     "output_type": "display_data"
    }
   ],
   "source": [
    "#Creando OHLCV aleatorio\n",
    "fechas = pd.date_range('2023-01-01', '2023-01-31', freq='1440T')\n",
    "size = 31\n",
    "open = np.random.randint(100, 200, size=size)\n",
    "high = np.random.randint(open, 300, size=size)\n",
    "low = np.random.randint(50, open, size=size)\n",
    "close = np.random.randint(low, high, size=size)\n",
    "volume = np.random.randint(10000, 50000, size=size)\n",
    "ohlcv = pd.DataFrame({\n",
    "    'datetime': fechas,\n",
    "    'open': open,\n",
    "    'high': high,\n",
    "    'low': low,\n",
    "    'close': close,\n",
    "    'volume': volume\n",
    "})\n",
    "\n",
    "#Creando Ordenes de compra venta aleatorias\n",
    "fechas_ordenes = pd.date_range('2023-01-01 09:00:00', '2023-01-31 20:00:00', freq='500T')\n",
    "tipo_orden = np.random.choice(['BUY', 'SELL'], size=len(fechas_ordenes))\n",
    "precio = np.random.randint(50, 300, size=len(fechas_ordenes))\n",
    "cantidad = np.random.randint(1, 100, size=len(fechas_ordenes))\n",
    "ordenes = pd.DataFrame({\n",
    "    'datetime': fechas_ordenes,\n",
    "    'side': tipo_orden,\n",
    "    'price': precio,\n",
    "    'qty': cantidad,\n",
    "    'buy': None,\n",
    "    'sell': None,\n",
    "})\n",
    "ordenes['buy'] = ordenes[ordenes['side']=='BUY']['price']\n",
    "ordenes['sell'] = ordenes[ordenes['side']=='SELL']['price']\n",
    "\n",
    "events = [\n",
    "         {'df':ordenes,\n",
    "          'col':'buy',\n",
    "          'name': 'BUY',\n",
    "          'color': 'green',\n",
    "          'symbol': 'triangle-up' #https://plotly.com/python/reference/scatter/#scatter-marker-symbol\n",
    "         },\n",
    "         {'df':ordenes,\n",
    "          'col':'sell',\n",
    "          'name': 'SELL',\n",
    "          'color': 'red',\n",
    "          'symbol': 'triangle-down' #https://plotly.com/python/reference/scatter/#scatter-marker-symbol\n",
    "         },\n",
    "     ]\n",
    "fig = ohlc_chart(ohlcv, show_pnl = False, events=events)\n",
    "fig.show()\n"
   ]
  }
 ],
 "metadata": {
  "kernelspec": {
   "display_name": "Python 3",
   "language": "python",
   "name": "python3"
  },
  "language_info": {
   "codemirror_mode": {
    "name": "ipython",
    "version": 3
   },
   "file_extension": ".py",
   "mimetype": "text/x-python",
   "name": "python",
   "nbconvert_exporter": "python",
   "pygments_lexer": "ipython3",
   "version": "3.8.0"
  }
 },
 "nbformat": 4,
 "nbformat_minor": 2
}
